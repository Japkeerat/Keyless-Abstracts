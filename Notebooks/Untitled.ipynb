{
 "cells": [
  {
   "cell_type": "code",
   "execution_count": 1,
   "metadata": {},
   "outputs": [],
   "source": [
    "import requests\n",
    "from bs4 import BeautifulSoup"
   ]
  },
  {
   "cell_type": "code",
   "execution_count": 2,
   "metadata": {},
   "outputs": [],
   "source": [
    "def get_content(url):\n",
    "    return BeautifulSoup(requests.get(url).text, \"html.parser\")"
   ]
  },
  {
   "cell_type": "code",
   "execution_count": 3,
   "metadata": {},
   "outputs": [],
   "source": [
    "content = get_content(\"http://export.arxiv.org/abs/2001.00018\")"
   ]
  },
  {
   "cell_type": "code",
   "execution_count": 4,
   "metadata": {},
   "outputs": [],
   "source": [
    "title = content.find_all('h1', attrs={'class': 'title'})[0]"
   ]
  },
  {
   "cell_type": "code",
   "execution_count": 5,
   "metadata": {},
   "outputs": [
    {
     "data": {
      "text/plain": [
       "<h1 class=\"title mathjax\"><span class=\"descriptor\">Title:</span>\n",
       "Connecting optical morphology, environment, and HI mass fraction for  low-redshift galaxies using deep learning</h1>"
      ]
     },
     "execution_count": 5,
     "metadata": {},
     "output_type": "execute_result"
    }
   ],
   "source": [
    "title"
   ]
  },
  {
   "cell_type": "code",
   "execution_count": 6,
   "metadata": {},
   "outputs": [
    {
     "data": {
      "text/plain": [
       "'Title:\\nConnecting optical morphology, environment, and HI mass fraction for  low-redshift galaxies using deep learning'"
      ]
     },
     "execution_count": 6,
     "metadata": {},
     "output_type": "execute_result"
    }
   ],
   "source": [
    "title.text"
   ]
  },
  {
   "cell_type": "code",
   "execution_count": 8,
   "metadata": {},
   "outputs": [],
   "source": [
    "title = title.text.split('\\n')[-1]"
   ]
  },
  {
   "cell_type": "code",
   "execution_count": 9,
   "metadata": {},
   "outputs": [
    {
     "data": {
      "text/plain": [
       "'Connecting optical morphology, environment, and HI mass fraction for  low-redshift galaxies using deep learning'"
      ]
     },
     "execution_count": 9,
     "metadata": {},
     "output_type": "execute_result"
    }
   ],
   "source": [
    "title"
   ]
  },
  {
   "cell_type": "code",
   "execution_count": 21,
   "metadata": {},
   "outputs": [],
   "source": [
    "abstract = content.find_all('blockquote', attrs={'class': 'abstract'})[0]"
   ]
  },
  {
   "cell_type": "code",
   "execution_count": 22,
   "metadata": {},
   "outputs": [],
   "source": [
    "abstract = ' '.join(abstract.text.split('\\nAbstract: ')[1:])"
   ]
  },
  {
   "cell_type": "code",
   "execution_count": 23,
   "metadata": {},
   "outputs": [
    {
     "data": {
      "text/plain": [
       "\"A galaxy's morphological features encode details about its gas content, star\\nformation history, and feedback processes which regulate its growth and\\nevolution. We use deep convolutional neural networks (CNNs) to capture all of a\\ngalaxy's morphological information in order to estimate its neutral atomic\\nhydrogen (HI) content directly from SDSS $gri$ image cutouts. We are able to\\npredict a galaxy's HI mass fraction, $\\\\mathcal M \\\\equiv M_{\\\\rm HI}/M_\\\\star$, to\\nwithin 0.25~dex accuracy using CNNs. The HI-morphology connection learned by\\nthe CNN appears to be constant in low- to intermediate-density galaxy\\nenvironments, but it breaks down in the highest-density environments, i.e., for\\nnormalized overdensity parameter $\\\\log(1+\\\\delta_5) \\\\gtrsim 0.5$ for the ALFALFA\\n$\\\\alpha.40$ sample, $\\\\log(1+\\\\delta_5) \\\\gtrsim 0.1$ for the xGASS representative\\nsample. This transition can be physically interpreted as the onset of ram\\npressure stripping, tidal effects, and other gas depletion processes in\\nclustered environments. We also use a visualization algorithm,\\nGradient-weighted Class Activation Maps (Grad-CAM), to determine which\\nmorphological features are associated with low or high gas content. These\\nresults demonstrate that CNNs are powerful tools for understanding the\\nconnections between optical morphology and other properties, as well as for\\nprobing other latent variables, in a quantitative and interpretable manner.\\n\""
      ]
     },
     "execution_count": 23,
     "metadata": {},
     "output_type": "execute_result"
    }
   ],
   "source": [
    "abstract"
   ]
  },
  {
   "cell_type": "code",
   "execution_count": 1,
   "metadata": {},
   "outputs": [
    {
     "data": {
      "text/plain": "                                               Title  \\\n0  Magnetic Fields in the Formation of the First ...   \n1  A lower bound on the maximum mass if the secon...   \n2  Stochastic inflationary dynamics beyond slow-r...   \n3  LISA sources from young massive and open stell...   \n4  In situ exo-planet transit lightcurve modellin...   \n\n                                            Abstract  \\\n0  While magnetic fields are important in contemp...   \n1  The recent detection of GW190814 featured the ...   \n2  We consider the impact of quantum diffusion on...   \n3  I study the potential role of young massive (Y...   \n4  We have added to the Chroma+ suite of stellar ...   \n\n                                      URL  \\\n0  http://export.arxiv.org/abs/2006.14607   \n1  http://export.arxiv.org/abs/2006.14601   \n2  http://export.arxiv.org/abs/2006.14597   \n3  http://export.arxiv.org/abs/2006.14587   \n4  http://export.arxiv.org/abs/2006.14586   \n\n                                            Subjects  \n0             Astrophysics of Galaxies (astro-ph.GA)  \n1  High Energy Astrophysical Phenomena (astro-ph.HE)  \n2  Cosmology and Nongalactic Astrophysics (astro-...  \n3  High Energy Astrophysical Phenomena (astro-ph.HE)  \n4       Solar and Stellar Astrophysics (astro-ph.SR)  ",
      "text/html": "<div>\n<style scoped>\n    .dataframe tbody tr th:only-of-type {\n        vertical-align: middle;\n    }\n\n    .dataframe tbody tr th {\n        vertical-align: top;\n    }\n\n    .dataframe thead th {\n        text-align: right;\n    }\n</style>\n<table border=\"1\" class=\"dataframe\">\n  <thead>\n    <tr style=\"text-align: right;\">\n      <th></th>\n      <th>Title</th>\n      <th>Abstract</th>\n      <th>URL</th>\n      <th>Subjects</th>\n    </tr>\n  </thead>\n  <tbody>\n    <tr>\n      <th>0</th>\n      <td>Magnetic Fields in the Formation of the First ...</td>\n      <td>While magnetic fields are important in contemp...</td>\n      <td>http://export.arxiv.org/abs/2006.14607</td>\n      <td>Astrophysics of Galaxies (astro-ph.GA)</td>\n    </tr>\n    <tr>\n      <th>1</th>\n      <td>A lower bound on the maximum mass if the secon...</td>\n      <td>The recent detection of GW190814 featured the ...</td>\n      <td>http://export.arxiv.org/abs/2006.14601</td>\n      <td>High Energy Astrophysical Phenomena (astro-ph.HE)</td>\n    </tr>\n    <tr>\n      <th>2</th>\n      <td>Stochastic inflationary dynamics beyond slow-r...</td>\n      <td>We consider the impact of quantum diffusion on...</td>\n      <td>http://export.arxiv.org/abs/2006.14597</td>\n      <td>Cosmology and Nongalactic Astrophysics (astro-...</td>\n    </tr>\n    <tr>\n      <th>3</th>\n      <td>LISA sources from young massive and open stell...</td>\n      <td>I study the potential role of young massive (Y...</td>\n      <td>http://export.arxiv.org/abs/2006.14587</td>\n      <td>High Energy Astrophysical Phenomena (astro-ph.HE)</td>\n    </tr>\n    <tr>\n      <th>4</th>\n      <td>In situ exo-planet transit lightcurve modellin...</td>\n      <td>We have added to the Chroma+ suite of stellar ...</td>\n      <td>http://export.arxiv.org/abs/2006.14586</td>\n      <td>Solar and Stellar Astrophysics (astro-ph.SR)</td>\n    </tr>\n  </tbody>\n</table>\n</div>"
     },
     "execution_count": 1,
     "metadata": {},
     "output_type": "execute_result"
    }
   ],
   "source": [
    "import pandas as pd\n",
    "\n",
    "df = pd.read_csv('Curated_Data/curated_dataset_1.csv')\n",
    "df.head()"
   ]
  },
  {
   "cell_type": "code",
   "execution_count": null,
   "outputs": [],
   "source": [
    "\n"
   ],
   "metadata": {
    "collapsed": false,
    "pycharm": {
     "name": "#%%\n"
    }
   }
  }
 ],
 "metadata": {
  "kernelspec": {
   "name": "pycharm-56a980",
   "language": "python",
   "display_name": "PyCharm (Keyless-Abstracts)"
  },
  "language_info": {
   "codemirror_mode": {
    "name": "ipython",
    "version": 3
   },
   "file_extension": ".py",
   "mimetype": "text/x-python",
   "name": "python",
   "nbconvert_exporter": "python",
   "pygments_lexer": "ipython3",
   "version": "3.7.7"
  },
  "toc": {
   "base_numbering": 1,
   "nav_menu": {},
   "number_sections": true,
   "sideBar": true,
   "skip_h1_title": false,
   "title_cell": "Table of Contents",
   "title_sidebar": "Contents",
   "toc_cell": false,
   "toc_position": {},
   "toc_section_display": true,
   "toc_window_display": false
  },
  "varInspector": {
   "cols": {
    "lenName": 16,
    "lenType": 16,
    "lenVar": 40
   },
   "kernels_config": {
    "python": {
     "delete_cmd_postfix": "",
     "delete_cmd_prefix": "del ",
     "library": "var_list.py",
     "varRefreshCmd": "print(var_dic_list())"
    },
    "r": {
     "delete_cmd_postfix": ") ",
     "delete_cmd_prefix": "rm(",
     "library": "var_list.r",
     "varRefreshCmd": "cat(var_dic_list()) "
    }
   },
   "types_to_exclude": [
    "module",
    "function",
    "builtin_function_or_method",
    "instance",
    "_Feature"
   ],
   "window_display": false
  }
 },
 "nbformat": 4,
 "nbformat_minor": 4
}